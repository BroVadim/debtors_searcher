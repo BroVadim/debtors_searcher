{
 "cells": [
  {
   "cell_type": "code",
   "execution_count": null,
   "metadata": {},
   "outputs": [],
   "source": [
    "import requests\n",
    "import urllib\n",
    "from urllib.parse import quote_plus as qp\n",
    "from requests.utils import dict_from_cookiejar as dfc\n",
    "\n",
    "if __name__==\"__main__\":\n",
    "    \n",
    "    names = [[\"Джабраилова\",\"Мехрибан\",\"\"],[\"Дарморезов\",\"Вадим\",\"Сергеевич\"]]\n",
    "    #url1 ='https://bankrot.fedresurs.ru/DebtorsSearch.aspx'\n",
    "    url2 ='https://bankrot.fedresurs.ru/DebtorsSearch.aspx'\n",
    "    url1 = 'https://bankrot.fedresurs.ru/DebtorsSearch.aspx?attempt=1'\n",
    "    session = requests.Session()\n",
    "    session.post(url1)\n",
    "    #session.get(url2)\n",
    "    session_dictionary = dfc(session.cookies)\n",
    "    #print(session_dictionary)###################\n",
    "    \n",
    "    last_name = names[0][0]\n",
    "    first_name = names[0][1]\n",
    "    middle_name = names[0][2]\n",
    "    debtorsearch = 'typeofsearch=Persons&orgname=&orgaddress=&orgregionid=&orgogrn=&orginn=&orgokpo=&OrgCategory=&prslastname='+qp(last_name)+'&prsfirstname='+qp(first_name)+'&prsmiddlename='+qp(middle_name)+'&prsaddress=&prsregionid=&prsinn=&prsogrn=&prssnils=&PrsCategory=&pagenumber=0'\n",
    "    session_dictionary[\"debtorsearch\"]=debtorsearch\n",
    "    print(session_dictionary)##################\n",
    "    file = open(\"result.html\",\"a+\", encoding=\"utf-8\")\n",
    "    response = session.post(url2, cookies=urllib.parse.urlencode(session_dictionary))\n",
    "    print(urllib.parse.urlencode(session_dictionary))\n",
    "    #print(response.text)\n",
    "    file.write(response.text)\n",
    "    file.close()\n",
    "\n"
   ]
  },
  {
   "cell_type": "code",
   "execution_count": null,
   "metadata": {},
   "outputs": [],
   "source": [
    "#import urllib\n",
    "from urllib.parse import quote_plus as qp\n",
    "\n",
    "def get_cookie(last_name,first_name,middle_name):\n",
    "    debtorsearch = 'typeofsearch=Organizations&orgname=&orgaddress=&orgregionid=&orgogrn=&orginn=&orgokpo=&OrgCategory=&prslastname='+qp(last_name)+'&prsfirstname='+qp(first_name)+'&prsmiddlename='+qp(middle_name)+'&prsaddress=&prsregionid=&prsinn=&prsogrn=&prssnils=&PrsCategory=22&pagenumber=0'\n",
    "    print(debtorsearch)\n",
    "\n",
    "dictionary ={\n",
    "    'ASP.NET_SessionId': '1uunzatwkas1wnqwfwov5wqc',\n",
    "    'debtorsearch': 'typeofsearch=Organizations&orgname=&orgaddress=&orgregionid=&orgogrn=&orginn=&orgokpo=&OrgCategory=&prslastname=&prsfirstname=&prsmiddlename=&prsaddress=&prsregionid=&prsinn=&prsogrn=&prssnils=&PrsCategory=&pagenumber=0'\n",
    "}\n",
    "\n",
    "\n",
    "if __name__==\"__main__\":\n",
    "    get_cookie(\"Дарморезов\", \"Вадим\",\"Сергеевич\")\n"
   ]
  },
  {
   "cell_type": "code",
   "execution_count": null,
   "metadata": {},
   "outputs": [],
   "source": [
    "import urllib\n",
    "from urllib.parse import quote_plus as qp\n",
    "\n",
    "print(qp(\"Джабраилова\"))\n",
    "#print(urllib.parse.quote_plus(\"Джабраилова\"))"
   ]
  },
  {
   "cell_type": "code",
   "execution_count": null,
   "metadata": {},
   "outputs": [],
   "source": [
    "import requests\n",
    "import urllib\n",
    "from urllib.parse import quote_plus as qp\n",
    "from requests.utils import dict_from_cookiejar as dfc\n",
    "\n",
    "if __name__==\"__main__\":\n",
    "    \n",
    "    names = [[\"Джабраилова\",\"Мехрибан\",\"\"],[\"Дарморезов\",\"Вадим\",\"Сергеевич\"]]\n",
    "    \n",
    "    url2 ='https://bankrot.fedresurs.ru/DebtorsSearch.aspx'\n",
    "    url1 = 'https://bankrot.fedresurs.ru/DebtorsSearch.aspx?attempt=1'\n",
    "    session = requests.Session()\n",
    "    session.post(url1)\n",
    "    \n",
    "    session_dictionary = dfc(session.cookies)\n",
    "    \n",
    "    dict2 = {}\n",
    "    \n",
    "    last_name = names[0][0]\n",
    "    first_name = names[0][1]\n",
    "    middle_name = names[0][2]\n",
    "    debtorsearch = 'typeofsearch=Persons&orgname=&orgaddress=&orgregionid=&orgogrn=&orginn=&orgokpo=&OrgCategory=&prslastname='+qp(last_name)+'&prsfirstname='+qp(first_name)+'&prsmiddlename='+qp(middle_name)+'&prsaddress=&prsregionid=&prsinn=&prsogrn=&prssnils=&PrsCategory=&pagenumber=0'\n",
    "    session_dictionary[\"debtorsearch\"]=debtorsearch\n",
    "    \n",
    "    #dict2[\"Cookie\"]=\"ASP.NET_SessionId=\"+session_dictionary[\"ASP.NET_SessionId\"]+\"; debtorsearch=\"+session_dictionary[\"debtorsearch\"]\n",
    "    dict2[\"Cookie\"] = \"; \".join([str(x)+\"=\"+str(y) for x,y in session_dictionary.items()])\n",
    "    print(dict2)\n",
    "    #print(session_dictionary)##################\n",
    "    file = open(\"result.html\",\"w+\", encoding=\"utf-8\")\n",
    "    response = session.post(url2, headers=dict2)\n",
    "    \n",
    "    \n",
    "    file.write(response.text)\n",
    "    file.close()"
   ]
  },
  {
   "cell_type": "code",
   "execution_count": 9,
   "metadata": {},
   "outputs": [
    {
     "name": "stdout",
     "output_type": "stream",
     "text": [
      "Всё ок\n",
      "\n",
      "\n",
      "\t\t\t\t\t\t\t446370, Самарская область, Красноярский район, село Красный Яр, ул. Советская д. 33А\n",
      "\n",
      "\t\t\t\t\t\t\n"
     ]
    }
   ],
   "source": [
    "from bs4 import BeautifulSoup\n",
    "\n",
    "connection_string = \"Driver={SQL Server Native Client 11.0};Server=DESKTOP-R9VI2A2\\SQLEXPRESS;Database=fedresurs;Trusted_Connection=yes;\"\n",
    "\n",
    "def insert_debtor_info(debtor_id,debtor_category,debtor_inn,debtor_orgnip,debtor_snils,debtor_region,debtor_address,debtor_link):\n",
    "        sqlRequest = \"\"\"\n",
    "        INSERT INTO Advertisements\n",
    "        (debtor_id,debtor_category,debtor_inn,debtor_orgnip,debtor_snils,debtor_region,debtor_address,debtor_link)\n",
    "        VALUES(?,?,?, ?,?,?, ?,?)\"\"\"\n",
    "        connection = pyodbc.connect(connectionString)\n",
    "        dbCursor = connection.cursor()\n",
    "        dbCursor.execute(sqlRequest,link,city,title,price,fullAddress,link,publicationDate,page)\n",
    "        connection.commit()\n",
    "        connection.close()\n",
    "\n",
    "def search_debtors_table():\n",
    "    file = open(\"result.html\",\"r\",encoding=\"utf-8\")\n",
    "    html = file.read()\n",
    "    file.close()\n",
    "    soup = BeautifulSoup(html,\"html.parser\")\n",
    "    searched_table = soup.find(\"table\", attrs={ \"id\" : \"ctl00_cphBody_gvDebtors\"})\n",
    "    try:\n",
    "        style = searched_table['style']\n",
    "        print(\"Пустая таблица\")\n",
    "    except:\n",
    "        print(\"Всё ок\")\n",
    "        soup2 = BeautifulSoup(str(searched_table),\"html.parser\")\n",
    "        allTr = soup2.findAll(\"tr\")\n",
    "        for tr in allTr[1:]:\n",
    "            search_debtors_info(str(tr))\n",
    "\n",
    "def search_debtor_link(td_with_link):\n",
    "    bs = BeautifulSoup(td_with_link,\"html.parser\")\n",
    "    href = bs.findAll(\"a\")\n",
    "    \n",
    "    \n",
    "def search_debtors_info(info_row):\n",
    "    bs = BeautifulSoup(info_row,\"html.parser\")\n",
    "    allTd = bs.findAll(\"td\")\n",
    "    debtor_category = allTd[0].text\n",
    "    #debtor_link = allTd[1] вытащить текст из внутренней ссылки\n",
    "    debtor_inn = allTd[2].text\n",
    "    debtor_ogrnip = allTd[3].text\n",
    "    debtor_snils = allTd[4].text\n",
    "    debtor_region = allTd[5].text\n",
    "    debtor_address = allTd[6].text\n",
    "            \n",
    "if __name__==\"__main__\":\n",
    "    search_debtors_table()"
   ]
  },
  {
   "cell_type": "code",
   "execution_count": null,
   "metadata": {},
   "outputs": [],
   "source": [
    "#root_childs = [e.name for e in searched_table.descendants if e.name is not None]\n",
    "#root_childs = [e.text for e in searched_table.descendants if e.name=='tr']\n",
    "count = 0\n",
    "for e in searched_table.descendants:\n",
    "    if e.name=='tr':\n",
    "        count+=1\n",
    "        for e2 in e.descendants:\n",
    "            try:\n",
    "                print(e2.text)\n",
    "            except:\n",
    "                continue\n",
    "print(count)\n",
    "#print(root_childs)"
   ]
  },
  {
   "cell_type": "code",
   "execution_count": null,
   "metadata": {},
   "outputs": [],
   "source": [
    "soup2 = BeautifulSoup(searched_table,\"html.parser\")\n",
    "print(soup2.tr.text)"
   ]
  },
  {
   "cell_type": "code",
   "execution_count": null,
   "metadata": {},
   "outputs": [],
   "source": []
  }
 ],
 "metadata": {
  "kernelspec": {
   "display_name": "Python 3",
   "language": "python",
   "name": "python3"
  },
  "language_info": {
   "codemirror_mode": {
    "name": "ipython",
    "version": 3
   },
   "file_extension": ".py",
   "mimetype": "text/x-python",
   "name": "python",
   "nbconvert_exporter": "python",
   "pygments_lexer": "ipython3",
   "version": "3.7.4"
  }
 },
 "nbformat": 4,
 "nbformat_minor": 2
}
