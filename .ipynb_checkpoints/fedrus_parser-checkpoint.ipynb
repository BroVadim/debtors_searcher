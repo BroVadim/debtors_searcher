{
 "cells": [
  {
   "cell_type": "code",
   "execution_count": null,
   "metadata": {},
   "outputs": [],
   "source": [
    "import requests\n",
    "import urllib\n",
    "from urllib.parse import quote_plus as qp\n",
    "from requests.utils import dict_from_cookiejar as dfc\n",
    "\n",
    "if __name__==\"__main__\":\n",
    "    \n",
    "    names = [[\"Джабраилова\",\"Мехрибан\",\"\"],[\"Дарморезов\",\"Вадим\",\"Сергеевич\"]]\n",
    "    #url1 ='https://bankrot.fedresurs.ru/DebtorsSearch.aspx'\n",
    "    url2 ='https://bankrot.fedresurs.ru/DebtorsSearch.aspx'\n",
    "    url1 = 'https://bankrot.fedresurs.ru/DebtorsSearch.aspx?attempt=1'\n",
    "    session = requests.Session()\n",
    "    session.post(url1)\n",
    "    #session.get(url2)\n",
    "    session_dictionary = dfc(session.cookies)\n",
    "    #print(session_dictionary)###################\n",
    "    \n",
    "    last_name = names[0][0]\n",
    "    first_name = names[0][1]\n",
    "    middle_name = names[0][2]\n",
    "    debtorsearch = 'typeofsearch=Persons&orgname=&orgaddress=&orgregionid=&orgogrn=&orginn=&orgokpo=&OrgCategory=&prslastname='+qp(last_name)+'&prsfirstname='+qp(first_name)+'&prsmiddlename='+qp(middle_name)+'&prsaddress=&prsregionid=&prsinn=&prsogrn=&prssnils=&PrsCategory=&pagenumber=0'\n",
    "    session_dictionary[\"debtorsearch\"]=debtorsearch\n",
    "    print(session_dictionary)##################\n",
    "    file = open(\"result.html\",\"a+\", encoding=\"utf-8\")\n",
    "    response = session.post(url2, cookies=urllib.parse.urlencode(session_dictionary))\n",
    "    print(urllib.parse.urlencode(session_dictionary))\n",
    "    #print(response.text)\n",
    "    file.write(response.text)\n",
    "    file.close()\n",
    "\n"
   ]
  },
  {
   "cell_type": "code",
   "execution_count": null,
   "metadata": {},
   "outputs": [],
   "source": [
    "#import urllib\n",
    "from urllib.parse import quote_plus as qp\n",
    "\n",
    "def get_cookie(last_name,first_name,middle_name):\n",
    "    debtorsearch = 'typeofsearch=Organizations&orgname=&orgaddress=&orgregionid=&orgogrn=&orginn=&orgokpo=&OrgCategory=&prslastname='+qp(last_name)+'&prsfirstname='+qp(first_name)+'&prsmiddlename='+qp(middle_name)+'&prsaddress=&prsregionid=&prsinn=&prsogrn=&prssnils=&PrsCategory=22&pagenumber=0'\n",
    "    print(debtorsearch)\n",
    "\n",
    "dictionary ={\n",
    "    'ASP.NET_SessionId': '1uunzatwkas1wnqwfwov5wqc',\n",
    "    'debtorsearch': 'typeofsearch=Organizations&orgname=&orgaddress=&orgregionid=&orgogrn=&orginn=&orgokpo=&OrgCategory=&prslastname=&prsfirstname=&prsmiddlename=&prsaddress=&prsregionid=&prsinn=&prsogrn=&prssnils=&PrsCategory=&pagenumber=0'\n",
    "}\n",
    "\n",
    "\n",
    "if __name__==\"__main__\":\n",
    "    get_cookie(\"Дарморезов\", \"Вадим\",\"Сергеевич\")\n"
   ]
  },
  {
   "cell_type": "code",
   "execution_count": 3,
   "metadata": {},
   "outputs": [
    {
     "name": "stdout",
     "output_type": "stream",
     "text": [
      "%D0%94%D0%B6%D0%B0%D0%B1%D1%80%D0%B0%D0%B8%D0%BB%D0%BE%D0%B2%D0%B0\n"
     ]
    }
   ],
   "source": [
    "import urllib\n",
    "from urllib.parse import quote_plus as qp\n",
    "\n",
    "print(qp(\"Джабраилова\"))\n",
    "#print(urllib.parse.quote_plus(\"Джабраилова\"))"
   ]
  },
  {
   "cell_type": "code",
   "execution_count": 8,
   "metadata": {},
   "outputs": [
    {
     "name": "stdout",
     "output_type": "stream",
     "text": [
      "{'Cookie': 'ASP.NET_SessionId=0bc2raefm1blqmc1djasdtqt; debtorsearch=typeofsearch=Persons&orgname=&orgaddress=&orgregionid=&orgogrn=&orginn=&orgokpo=&OrgCategory=&prslastname=%D0%94%D0%B6%D0%B0%D0%B1%D1%80%D0%B0%D0%B8%D0%BB%D0%BE%D0%B2%D0%B0&prsfirstname=%D0%9C%D0%B5%D1%85%D1%80%D0%B8%D0%B1%D0%B0%D0%BD&prsmiddlename=&prsaddress=&prsregionid=&prsinn=&prsogrn=&prssnils=&PrsCategory=&pagenumber=0'}\n"
     ]
    }
   ],
   "source": [
    "import requests\n",
    "import urllib\n",
    "from urllib.parse import quote_plus as qp\n",
    "from requests.utils import dict_from_cookiejar as dfc\n",
    "\n",
    "if __name__==\"__main__\":\n",
    "    \n",
    "    names = [[\"Джабраилова\",\"Мехрибан\",\"\"],[\"Дарморезов\",\"Вадим\",\"Сергеевич\"]]\n",
    "    \n",
    "    url2 ='https://bankrot.fedresurs.ru/DebtorsSearch.aspx'\n",
    "    url1 = 'https://bankrot.fedresurs.ru/DebtorsSearch.aspx?attempt=1'\n",
    "    session = requests.Session()\n",
    "    session.post(url1)\n",
    "    \n",
    "    session_dictionary = dfc(session.cookies)\n",
    "    \n",
    "    dict2 = {}\n",
    "    \n",
    "    last_name = names[0][0]\n",
    "    first_name = names[0][1]\n",
    "    middle_name = names[0][2]\n",
    "    debtorsearch = 'typeofsearch=Persons&orgname=&orgaddress=&orgregionid=&orgogrn=&orginn=&orgokpo=&OrgCategory=&prslastname='+qp(last_name)+'&prsfirstname='+qp(first_name)+'&prsmiddlename='+qp(middle_name)+'&prsaddress=&prsregionid=&prsinn=&prsogrn=&prssnils=&PrsCategory=&pagenumber=0'\n",
    "    session_dictionary[\"debtorsearch\"]=debtorsearch\n",
    "    \n",
    "    #dict2[\"Cookie\"]=\"ASP.NET_SessionId=\"+session_dictionary[\"ASP.NET_SessionId\"]+\"; debtorsearch=\"+session_dictionary[\"debtorsearch\"]\n",
    "    dict2[\"Cookie\"] = \"; \".join([str(x)+\"=\"+str(y) for x,y in session_dictionary.items()])\n",
    "    print(dict2)\n",
    "    #print(session_dictionary)##################\n",
    "    file = open(\"result.html\",\"w+\", encoding=\"utf-8\")\n",
    "    response = session.post(url2, headers=dict2)\n",
    "    \n",
    "    \n",
    "    file.write(response.text)\n",
    "    file.close()"
   ]
  },
  {
   "cell_type": "code",
   "execution_count": null,
   "metadata": {},
   "outputs": [],
   "source": [
    "from bs4 import BeautifulSoup\n",
    "\n",
    "file = open(\"result.html\",\"r\",encoding=\"utf-8\")\n"
   ]
  }
 ],
 "metadata": {
  "kernelspec": {
   "display_name": "Python 3",
   "language": "python",
   "name": "python3"
  },
  "language_info": {
   "codemirror_mode": {
    "name": "ipython",
    "version": 3
   },
   "file_extension": ".py",
   "mimetype": "text/x-python",
   "name": "python",
   "nbconvert_exporter": "python",
   "pygments_lexer": "ipython3",
   "version": "3.7.4"
  }
 },
 "nbformat": 4,
 "nbformat_minor": 2
}
