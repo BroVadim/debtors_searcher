{
 "cells": [
  {
   "cell_type": "code",
   "execution_count": null,
   "metadata": {},
   "outputs": [],
   "source": [
    "import openpyxl\n",
    "import pyodbc\n",
    "connection_string = \"Driver={SQL Server Native Client 11.0};Server=DESKTOP-R9VI2A2\\SQLEXPRESS;Database=fedresurs4;Trusted_Connection=yes;\"\n",
    "\n",
    "def insert_in_debtor(self,debtor_firstname,debtor_middlename,debtor_lastname):\n",
    "    sqlRequest = \"\"\"INSERT INTO debtor (debtor_firstname,debtor_middlename,debtor_lastname,debtor_status)\n",
    "                        VALUES(?,?,?,0)\"\"\"\n",
    "    connection = pyodbc.connect(connection_string)\n",
    "    dbCursor = connection.cursor()\n",
    "    dbCursor.execute(sqlRequest,debtor_firstname,debtor_middlename,debtor_lastname)\n",
    "    connection.commit()\n",
    "    connection.close()\n",
    "\n",
    "def write_debtors(filePath):\n",
    "    excel_data_df = pd.read_excel(filePath, sheet_name='Result')\n",
    "    consumers = excel_data_df['Табельный номер'].tolist()\n",
    "    #wb = openpyxl.load_workbook(filePath,read_only=True)\n",
    "    #sheet = wb['Sheet1']\n",
    "    #consumers = []\n",
    "    #for i in range(2,sheet.max_row+1):\n",
    "    #    try:\n",
    "    #        cell = sheet.cell(row=i,column=3)\n",
    "    #        consumers.append(cell.value)\n",
    "    #    except:\n",
    "    #        continue\n",
    "    for consumer in consumers:\n",
    "        FIO = consumer.split(\" \")\n",
    "        try:\n",
    "            last_name = FIO[0]\n",
    "            first_name = FIO[1]\n",
    "            middle_name = FIO[2]\n",
    "            print(\"Фамилия: \"+last_name+\" Имя: \" + first_name+\" Отчество: \"+ middle_name)\n",
    "            insert_in_debtor(first_name,middle_name,last_name)\n",
    "        except:\n",
    "            print(\"Произошла ошибка\")\n",
    "            continue\n",
    "            \n",
    "if __name__==\"__main__\":\n",
    "    write_debtors(\"debtors2.xlsx\")"
   ]
  },
  {
   "cell_type": "code",
   "execution_count": null,
   "metadata": {},
   "outputs": [],
   "source": []
  }
 ],
 "metadata": {
  "kernelspec": {
   "display_name": "Python 3",
   "language": "python",
   "name": "python3"
  },
  "language_info": {
   "codemirror_mode": {
    "name": "ipython",
    "version": 3
   },
   "file_extension": ".py",
   "mimetype": "text/x-python",
   "name": "python",
   "nbconvert_exporter": "python",
   "pygments_lexer": "ipython3",
   "version": "3.7.4"
  }
 },
 "nbformat": 4,
 "nbformat_minor": 2
}
